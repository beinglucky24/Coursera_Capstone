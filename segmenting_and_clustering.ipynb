{
    "nbformat_minor": 1, 
    "cells": [
        {
            "source": "# SEGMENTING AND CLUSTERING NEIGHBORHOODS OF TORONTO", 
            "cell_type": "markdown", 
            "metadata": {
                "collapsed": true
            }
        }, 
        {
            "source": "### Importing Libraries", 
            "cell_type": "markdown", 
            "metadata": {}
        }, 
        {
            "source": "import numpy as np            # for efficient numerical operations\nimport pandas as pd           # for data frame analytics\nimport requests               # for pulling html pages and creating html documents\nfrom bs4 import BeautifulSoup # for scraping html documents", 
            "cell_type": "code", 
            "metadata": {}, 
            "outputs": [], 
            "execution_count": 25
        }, 
        {
            "source": "### Parsing the Wikipedia page on Toronto postal codes\n\nBy means of the <i>requests</i> library which has been loaded above, the link provided in the description of the assignment can be employed to retrieve the html page pointed to be that link. This is acchieved via the <i>requests.get()</i> function. Once the html page is retrieved the underlying html document stored in the <i>text</i> attribute of the page object. Lastly, this hmtl document is parsed by means of the <i>BeautifulSoup</i> library.", 
            "cell_type": "markdown", 
            "metadata": {}
        }, 
        {
            "source": "html_link = 'https://en.wikipedia.org/wiki/List_of_postal_codes_of_Canada:_M'\nhtml_page = requests.get(html_link)\nhtml_doc = html_page.text\nsoup = BeautifulSoup(html_doc,'html.parser')", 
            "cell_type": "code", 
            "metadata": {}, 
            "outputs": [], 
            "execution_count": 26
        }, 
        {
            "source": "### Scraping the html document", 
            "cell_type": "markdown", 
            "metadata": {}
        }, 
        {
            "source": "table = soup.find('table')\nrows = table.findAll('tr')\nheader = rows[0].findAll('th')\ncol_num = len(header)\nrow_num = len(rows)-1\n\ncolumns = list()\nfor c in range(col_num):\n    if c != col_num-1:\n        columns.append(header[c].string)\n    else:\n        columns.append(header[c].string[:-1])\n\n#code_df = pd.DataFrame(columns=columns,index=range(row_num))\n#for i in range(row_num):\n#    row = rows[i+1].findAll('td')\n#    for c in range(0,col_num):\n#        if c != col_num-1:\n#            code_df.iloc[i,c] = row[c].string\n#        else:\n#            code_df.iloc[i,c] = row[c].string[:-1]", 
            "cell_type": "code", 
            "metadata": {}, 
            "outputs": [], 
            "execution_count": 99
        }, 
        {
            "source": "", 
            "cell_type": "code", 
            "metadata": {}, 
            "outputs": [], 
            "execution_count": null
        }
    ], 
    "metadata": {
        "kernelspec": {
            "display_name": "Python 3.5", 
            "name": "python3", 
            "language": "python"
        }, 
        "language_info": {
            "mimetype": "text/x-python", 
            "nbconvert_exporter": "python", 
            "version": "3.5.5", 
            "name": "python", 
            "pygments_lexer": "ipython3", 
            "file_extension": ".py", 
            "codemirror_mode": {
                "version": 3, 
                "name": "ipython"
            }
        }
    }, 
    "nbformat": 4
}