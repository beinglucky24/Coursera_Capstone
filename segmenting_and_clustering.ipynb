{
    "nbformat_minor": 1, 
    "cells": [
        {
            "source": "# SEGMENTING AND CLUSTERING NEIGHBORHOODS OF TORONTO", 
            "cell_type": "markdown", 
            "metadata": {
                "collapsed": true
            }
        }, 
        {
            "source": "### 1 Importing Libraries", 
            "cell_type": "markdown", 
            "metadata": {}
        }, 
        {
            "source": "import numpy as np            # for efficient numerical operations\nimport pandas as pd           # for data frame analytics\nimport requests               # for pulling html pages and creating html documents\nfrom bs4 import BeautifulSoup # for scraping html documents", 
            "cell_type": "code", 
            "metadata": {}, 
            "outputs": [], 
            "execution_count": 1
        }, 
        {
            "source": "### 2 Parsing the Wikipedia page on Toronto postal codes\n\nBy means of the <i>requests</i> library which has been loaded above, the link provided in the description of the assignment can be employed to retrieve the html page pointed to be that link. This is acchieved via the <i>requests.get()</i> function. Once the html page is retrieved the underlying html document stored in the <i>text</i> attribute of the page object. Lastly, this hmtl document is parsed by means of the <i>BeautifulSoup</i> library.", 
            "cell_type": "markdown", 
            "metadata": {}
        }, 
        {
            "source": "html_link = 'https://en.wikipedia.org/wiki/List_of_postal_codes_of_Canada:_M'\nhtml_page = requests.get(html_link)\nhtml_doc = html_page.text\nsoup = BeautifulSoup(html_doc,'html.parser')", 
            "cell_type": "code", 
            "metadata": {}, 
            "outputs": [], 
            "execution_count": 2
        }, 
        {
            "source": "### 3 Scraping the html document", 
            "cell_type": "markdown", 
            "metadata": {}
        }, 
        {
            "source": "#### 3.1 Searching the postal code table in the html document and creating a dataframe from it\nFirstly, the soup object is searched for the table by means of the <i>find()</i> function and specifying the html tag <i>table</i>. With the help of that same function the rows (html tagged <i>tr</i>) are then extracted from the table, and headers (html tagged <i>th</i>) are extracted from the first row. These headers, together with the number of rows are employed to create a raw pandas dataframe <i>table_df</i> which contains all rows of the table found on the wikipedia page.", 
            "cell_type": "markdown", 
            "metadata": {}
        }, 
        {
            "source": "table = soup.find('table')\nrows = table.findAll('tr')\nheader = rows[0].findAll('th')\ncol_num = len(header)\nrow_num = len(rows)-1\n\ncolumns = list()\nfor c in range(col_num):\n    if c != col_num-1:\n        columns.append(header[c].string.lower())\n    else:\n        columns.append(header[c].string[:-1].lower())\n\ntable_df = pd.DataFrame(columns=columns,index=range(row_num))\n\nfor i in range(row_num):\n    row = rows[i+1].findAll('td')\n    for c in range(col_num):\n        table_df.iloc[i,c] = row[c].string\n        if table_df.iloc[i,c] == None:\n            table_df.iloc[i,c] = row[c].a.string\n        \ntable_df.head()", 
            "cell_type": "code", 
            "metadata": {}, 
            "outputs": [
                {
                    "output_type": "execute_result", 
                    "data": {
                        "text/plain": "  postcode           borough     neighbourhood\n0      M1A      Not assigned     Not assigned\n\n1      M2A      Not assigned     Not assigned\n\n2      M3A        North York         Parkwoods\n3      M4A        North York  Victoria Village\n4      M5A  Downtown Toronto      Harbourfront", 
                        "text/html": "<div>\n<style scoped>\n    .dataframe tbody tr th:only-of-type {\n        vertical-align: middle;\n    }\n\n    .dataframe tbody tr th {\n        vertical-align: top;\n    }\n\n    .dataframe thead th {\n        text-align: right;\n    }\n</style>\n<table border=\"1\" class=\"dataframe\">\n  <thead>\n    <tr style=\"text-align: right;\">\n      <th></th>\n      <th>postcode</th>\n      <th>borough</th>\n      <th>neighbourhood</th>\n    </tr>\n  </thead>\n  <tbody>\n    <tr>\n      <th>0</th>\n      <td>M1A</td>\n      <td>Not assigned</td>\n      <td>Not assigned</td>\n    </tr>\n    <tr>\n      <th>1</th>\n      <td>M2A</td>\n      <td>Not assigned</td>\n      <td>Not assigned</td>\n    </tr>\n    <tr>\n      <th>2</th>\n      <td>M3A</td>\n      <td>North York</td>\n      <td>Parkwoods</td>\n    </tr>\n    <tr>\n      <th>3</th>\n      <td>M4A</td>\n      <td>North York</td>\n      <td>Victoria Village</td>\n    </tr>\n    <tr>\n      <th>4</th>\n      <td>M5A</td>\n      <td>Downtown Toronto</td>\n      <td>Harbourfront</td>\n    </tr>\n  </tbody>\n</table>\n</div>"
                    }, 
                    "execution_count": 100, 
                    "metadata": {}
                }
            ], 
            "execution_count": 100
        }, 
        {
            "source": "#### 3.2 Manipulating the raw dataframe\nNext, those rows of the raw dataframe <i>table_df</i> data frame who have no borough assigned, are dropped. Next, if among the remaining entries the neighborhood is not assigned, the neighborhood name will be the same as the borough name.", 
            "cell_type": "markdown", 
            "metadata": {}
        }, 
        {
            "source": "for i in table_df.index:\n    if table_df.loc[i,'borough'] == 'Not assigned':\n        table_df = table_df.drop(i,axis=0)\n    elif table_df.loc[i,'neighbourhood'] == 'Not assigned':\n        table_df.loc[i,'neighbourhood'] = table_df.loc[i,'borough']\n        \ntable_df.head()", 
            "cell_type": "code", 
            "metadata": {}, 
            "outputs": [
                {
                    "output_type": "execute_result", 
                    "data": {
                        "text/plain": "  postcode           borough     neighbourhood\n2      M3A        North York         Parkwoods\n3      M4A        North York  Victoria Village\n4      M5A  Downtown Toronto      Harbourfront\n5      M5A  Downtown Toronto       Regent Park\n6      M6A        North York  Lawrence Heights", 
                        "text/html": "<div>\n<style scoped>\n    .dataframe tbody tr th:only-of-type {\n        vertical-align: middle;\n    }\n\n    .dataframe tbody tr th {\n        vertical-align: top;\n    }\n\n    .dataframe thead th {\n        text-align: right;\n    }\n</style>\n<table border=\"1\" class=\"dataframe\">\n  <thead>\n    <tr style=\"text-align: right;\">\n      <th></th>\n      <th>postcode</th>\n      <th>borough</th>\n      <th>neighbourhood</th>\n    </tr>\n  </thead>\n  <tbody>\n    <tr>\n      <th>2</th>\n      <td>M3A</td>\n      <td>North York</td>\n      <td>Parkwoods</td>\n    </tr>\n    <tr>\n      <th>3</th>\n      <td>M4A</td>\n      <td>North York</td>\n      <td>Victoria Village</td>\n    </tr>\n    <tr>\n      <th>4</th>\n      <td>M5A</td>\n      <td>Downtown Toronto</td>\n      <td>Harbourfront</td>\n    </tr>\n    <tr>\n      <th>5</th>\n      <td>M5A</td>\n      <td>Downtown Toronto</td>\n      <td>Regent Park</td>\n    </tr>\n    <tr>\n      <th>6</th>\n      <td>M6A</td>\n      <td>North York</td>\n      <td>Lawrence Heights</td>\n    </tr>\n  </tbody>\n</table>\n</div>"
                    }, 
                    "execution_count": 101, 
                    "metadata": {}
                }
            ], 
            "execution_count": 101
        }, 
        {
            "source": "#### 3.3  Creating a clean postal code dataframe from the raw data frame\nLastly, from the raw dataframe <i>table_df</i> the unique postal codes are collected and employed to create a clean dataframe <i>code_df</i> which lists codes, borough names and all associated neighborhoods.", 
            "cell_type": "markdown", 
            "metadata": {}
        }, 
        {
            "source": "code_list = list(table_df['postcode'].unique())\ncode_df = pd.DataFrame(columns=columns,index=range(len(code_list)))\n\nfor i in code_df.index:\n    code = code_list[i]\n    sub_df = table_df[table_df['postcode']==code]\n    hood_string = ''\n    for j in range(sub_df.shape[0]):\n        hood_string = hood_string + sub_df.loc[sub_df.index[j],'neighbourhood'] + ', '\n    hood_string = hood_string[:-2]\n    code_df.loc[i,'postcode'] = code\n    code_df.loc[i,'borough'] = sub_df.loc[sub_df.index[0],'borough']\n    code_df.loc[i,'neighbourhood'] = hood_string\n    \ncode_df.sort_values('postcode',inplace=True)\n    \ncode_df", 
            "cell_type": "code", 
            "metadata": {}, 
            "outputs": [
                {
                    "output_type": "execute_result", 
                    "data": {
                        "text/plain": "    postcode           borough  \\\n6        M1B       Scarborough   \n12       M1C       Scarborough   \n18       M1E       Scarborough   \n22       M1G       Scarborough   \n26       M1H       Scarborough   \n32       M1J       Scarborough   \n38       M1K       Scarborough   \n44       M1L       Scarborough   \n51       M1M       Scarborough   \n58       M1N       Scarborough   \n65       M1P       Scarborough   \n71       M1R       Scarborough   \n78       M1S       Scarborough   \n82       M1T       Scarborough   \n85       M1V       Scarborough   \n90       M1W       Scarborough   \n95       M1X       Scarborough   \n27       M2H        North York   \n33       M2J        North York   \n39       M2K        North York   \n45       M2L        North York   \n52       M2M        North York   \n59       M2N        North York   \n66       M2P        North York   \n72       M2R        North York   \n0        M3A        North York   \n7        M3B        North York   \n13       M3C        North York   \n28       M3H        North York   \n34       M3J        North York   \n..       ...               ...   \n16       M6C              York   \n21       M6E              York   \n25       M6G  Downtown Toronto   \n31       M6H      West Toronto   \n37       M6J      West Toronto   \n43       M6K      West Toronto   \n49       M6L        North York   \n56       M6M              York   \n63       M6N              York   \n69       M6P      West Toronto   \n75       M6R      West Toronto   \n81       M6S      West Toronto   \n4        M7A      Queen's Park   \n76       M7R       Mississauga   \n100      M7Y      East Toronto   \n88       M8V         Etobicoke   \n93       M8W         Etobicoke   \n98       M8X         Etobicoke   \n101      M8Y         Etobicoke   \n102      M8Z         Etobicoke   \n5        M9A         Etobicoke   \n11       M9B         Etobicoke   \n17       M9C         Etobicoke   \n50       M9L        North York   \n57       M9M        North York   \n64       M9N              York   \n70       M9P         Etobicoke   \n77       M9R         Etobicoke   \n89       M9V         Etobicoke   \n94       M9W         Etobicoke   \n\n                                         neighbourhood  \n6                                       Rouge, Malvern  \n12              Highland Creek, Rouge Hill, Port Union  \n18                 Guildwood\\n, Morningside, West Hill  \n22                                              Woburn  \n26                                           Cedarbrae  \n32                                 Scarborough Village  \n38       East Birchmount Park\\n, Ionview, Kennedy Park  \n44                     Clairlea, Golden Mile, Oakridge  \n51   Cliffcrest, Cliffside, Scarborough Village West\\n  \n58                       Birch Cliff, Cliffside West\\n  \n65   Dorset Park, Scarborough Town Centre, Wexford ...  \n71                                   Maryvale, Wexford  \n78                                           Agincourt  \n82         Clarks Corners\\n, Sullivan\\n, Tam O'Shanter  \n85   Agincourt North, L'Amoreaux East\\n, Milliken, ...  \n90                     L'Amoreaux West\\n, Steeles West  \n95                                         Upper Rouge  \n27                                   Hillcrest Village  \n33                    Fairview\\n, Henry Farm, Oriole\\n  \n39                                     Bayview Village  \n45                            Silver Hills, York Mills  \n52                             Newtonbrook, Willowdale  \n59                                  Willowdale South\\n  \n66                                   York Mills West\\n  \n72                                     Willowdale West  \n0                                            Parkwoods  \n7                                    Don Mills North\\n  \n13                  Flemingdon Park, Don Mills South\\n  \n28   Bathurst Manor, Downsview North\\n, Wilson Heights  \n34                     Northwood Park, York University  \n..                                                 ...  \n16                                  Humewood-Cedarvale  \n21                               Caledonia-Fairbanks\\n  \n25                                          Christie\\n  \n31                      Dovercourt Village, Dufferin\\n  \n37                            Little Portugal, Trinity  \n43      Brockton\\n, Exhibition Place, Parkdale Village  \n49        Maple Leaf Park, North Park\\n, Upwood Park\\n  \n56     Del Ray\\n, Keelsdale, Mount Dennis, Silverthorn  \n63                   The Junction North\\n, Runnymede\\n  \n69                     High Park, The Junction South\\n  \n75                              Parkdale, Roncesvalles  \n81                                  Runnymede, Swansea  \n4                                       Not assigned\\n  \n76             Canada Post Gateway Processing Centre\\n  \n100  Business reply mail Processing Centre969 Easte...  \n88    Humber Bay Shores\\n, Mimico South\\n, New Toronto  \n93                              Alderwood, Long Branch  \n98   The Kingsway, Montgomery Road\\n, Old Mill North\\n  \n101  Humber Bay, King's Mill Park, Kingsway Park So...  \n102  Kingsway Park South West\\n, Mimico NW, The Que...  \n5                                     Islington Avenue  \n11   Cloverdale\\n, Islington, Martin Grove\\n, Princ...  \n17   Bloordale Gardens\\n, Eringate\\n, Markland Wood...  \n50                                       Humber Summit  \n57                                    Emery, Humberlea  \n64                                              Weston  \n70                                           Westmount  \n77   Kingsview Village, Martin Grove Gardens\\n, Ric...  \n89   Albion Gardens\\n, Beaumond Heights, Humbergate...  \n94                                           Northwest  \n\n[103 rows x 3 columns]", 
                        "text/html": "<div>\n<style scoped>\n    .dataframe tbody tr th:only-of-type {\n        vertical-align: middle;\n    }\n\n    .dataframe tbody tr th {\n        vertical-align: top;\n    }\n\n    .dataframe thead th {\n        text-align: right;\n    }\n</style>\n<table border=\"1\" class=\"dataframe\">\n  <thead>\n    <tr style=\"text-align: right;\">\n      <th></th>\n      <th>postcode</th>\n      <th>borough</th>\n      <th>neighbourhood</th>\n    </tr>\n  </thead>\n  <tbody>\n    <tr>\n      <th>6</th>\n      <td>M1B</td>\n      <td>Scarborough</td>\n      <td>Rouge, Malvern</td>\n    </tr>\n    <tr>\n      <th>12</th>\n      <td>M1C</td>\n      <td>Scarborough</td>\n      <td>Highland Creek, Rouge Hill, Port Union</td>\n    </tr>\n    <tr>\n      <th>18</th>\n      <td>M1E</td>\n      <td>Scarborough</td>\n      <td>Guildwood\\n, Morningside, West Hill</td>\n    </tr>\n    <tr>\n      <th>22</th>\n      <td>M1G</td>\n      <td>Scarborough</td>\n      <td>Woburn</td>\n    </tr>\n    <tr>\n      <th>26</th>\n      <td>M1H</td>\n      <td>Scarborough</td>\n      <td>Cedarbrae</td>\n    </tr>\n    <tr>\n      <th>32</th>\n      <td>M1J</td>\n      <td>Scarborough</td>\n      <td>Scarborough Village</td>\n    </tr>\n    <tr>\n      <th>38</th>\n      <td>M1K</td>\n      <td>Scarborough</td>\n      <td>East Birchmount Park\\n, Ionview, Kennedy Park</td>\n    </tr>\n    <tr>\n      <th>44</th>\n      <td>M1L</td>\n      <td>Scarborough</td>\n      <td>Clairlea, Golden Mile, Oakridge</td>\n    </tr>\n    <tr>\n      <th>51</th>\n      <td>M1M</td>\n      <td>Scarborough</td>\n      <td>Cliffcrest, Cliffside, Scarborough Village West\\n</td>\n    </tr>\n    <tr>\n      <th>58</th>\n      <td>M1N</td>\n      <td>Scarborough</td>\n      <td>Birch Cliff, Cliffside West\\n</td>\n    </tr>\n    <tr>\n      <th>65</th>\n      <td>M1P</td>\n      <td>Scarborough</td>\n      <td>Dorset Park, Scarborough Town Centre, Wexford ...</td>\n    </tr>\n    <tr>\n      <th>71</th>\n      <td>M1R</td>\n      <td>Scarborough</td>\n      <td>Maryvale, Wexford</td>\n    </tr>\n    <tr>\n      <th>78</th>\n      <td>M1S</td>\n      <td>Scarborough</td>\n      <td>Agincourt</td>\n    </tr>\n    <tr>\n      <th>82</th>\n      <td>M1T</td>\n      <td>Scarborough</td>\n      <td>Clarks Corners\\n, Sullivan\\n, Tam O'Shanter</td>\n    </tr>\n    <tr>\n      <th>85</th>\n      <td>M1V</td>\n      <td>Scarborough</td>\n      <td>Agincourt North, L'Amoreaux East\\n, Milliken, ...</td>\n    </tr>\n    <tr>\n      <th>90</th>\n      <td>M1W</td>\n      <td>Scarborough</td>\n      <td>L'Amoreaux West\\n, Steeles West</td>\n    </tr>\n    <tr>\n      <th>95</th>\n      <td>M1X</td>\n      <td>Scarborough</td>\n      <td>Upper Rouge</td>\n    </tr>\n    <tr>\n      <th>27</th>\n      <td>M2H</td>\n      <td>North York</td>\n      <td>Hillcrest Village</td>\n    </tr>\n    <tr>\n      <th>33</th>\n      <td>M2J</td>\n      <td>North York</td>\n      <td>Fairview\\n, Henry Farm, Oriole\\n</td>\n    </tr>\n    <tr>\n      <th>39</th>\n      <td>M2K</td>\n      <td>North York</td>\n      <td>Bayview Village</td>\n    </tr>\n    <tr>\n      <th>45</th>\n      <td>M2L</td>\n      <td>North York</td>\n      <td>Silver Hills, York Mills</td>\n    </tr>\n    <tr>\n      <th>52</th>\n      <td>M2M</td>\n      <td>North York</td>\n      <td>Newtonbrook, Willowdale</td>\n    </tr>\n    <tr>\n      <th>59</th>\n      <td>M2N</td>\n      <td>North York</td>\n      <td>Willowdale South\\n</td>\n    </tr>\n    <tr>\n      <th>66</th>\n      <td>M2P</td>\n      <td>North York</td>\n      <td>York Mills West\\n</td>\n    </tr>\n    <tr>\n      <th>72</th>\n      <td>M2R</td>\n      <td>North York</td>\n      <td>Willowdale West</td>\n    </tr>\n    <tr>\n      <th>0</th>\n      <td>M3A</td>\n      <td>North York</td>\n      <td>Parkwoods</td>\n    </tr>\n    <tr>\n      <th>7</th>\n      <td>M3B</td>\n      <td>North York</td>\n      <td>Don Mills North\\n</td>\n    </tr>\n    <tr>\n      <th>13</th>\n      <td>M3C</td>\n      <td>North York</td>\n      <td>Flemingdon Park, Don Mills South\\n</td>\n    </tr>\n    <tr>\n      <th>28</th>\n      <td>M3H</td>\n      <td>North York</td>\n      <td>Bathurst Manor, Downsview North\\n, Wilson Heights</td>\n    </tr>\n    <tr>\n      <th>34</th>\n      <td>M3J</td>\n      <td>North York</td>\n      <td>Northwood Park, York University</td>\n    </tr>\n    <tr>\n      <th>...</th>\n      <td>...</td>\n      <td>...</td>\n      <td>...</td>\n    </tr>\n    <tr>\n      <th>16</th>\n      <td>M6C</td>\n      <td>York</td>\n      <td>Humewood-Cedarvale</td>\n    </tr>\n    <tr>\n      <th>21</th>\n      <td>M6E</td>\n      <td>York</td>\n      <td>Caledonia-Fairbanks\\n</td>\n    </tr>\n    <tr>\n      <th>25</th>\n      <td>M6G</td>\n      <td>Downtown Toronto</td>\n      <td>Christie\\n</td>\n    </tr>\n    <tr>\n      <th>31</th>\n      <td>M6H</td>\n      <td>West Toronto</td>\n      <td>Dovercourt Village, Dufferin\\n</td>\n    </tr>\n    <tr>\n      <th>37</th>\n      <td>M6J</td>\n      <td>West Toronto</td>\n      <td>Little Portugal, Trinity</td>\n    </tr>\n    <tr>\n      <th>43</th>\n      <td>M6K</td>\n      <td>West Toronto</td>\n      <td>Brockton\\n, Exhibition Place, Parkdale Village</td>\n    </tr>\n    <tr>\n      <th>49</th>\n      <td>M6L</td>\n      <td>North York</td>\n      <td>Maple Leaf Park, North Park\\n, Upwood Park\\n</td>\n    </tr>\n    <tr>\n      <th>56</th>\n      <td>M6M</td>\n      <td>York</td>\n      <td>Del Ray\\n, Keelsdale, Mount Dennis, Silverthorn</td>\n    </tr>\n    <tr>\n      <th>63</th>\n      <td>M6N</td>\n      <td>York</td>\n      <td>The Junction North\\n, Runnymede\\n</td>\n    </tr>\n    <tr>\n      <th>69</th>\n      <td>M6P</td>\n      <td>West Toronto</td>\n      <td>High Park, The Junction South\\n</td>\n    </tr>\n    <tr>\n      <th>75</th>\n      <td>M6R</td>\n      <td>West Toronto</td>\n      <td>Parkdale, Roncesvalles</td>\n    </tr>\n    <tr>\n      <th>81</th>\n      <td>M6S</td>\n      <td>West Toronto</td>\n      <td>Runnymede, Swansea</td>\n    </tr>\n    <tr>\n      <th>4</th>\n      <td>M7A</td>\n      <td>Queen's Park</td>\n      <td>Not assigned\\n</td>\n    </tr>\n    <tr>\n      <th>76</th>\n      <td>M7R</td>\n      <td>Mississauga</td>\n      <td>Canada Post Gateway Processing Centre\\n</td>\n    </tr>\n    <tr>\n      <th>100</th>\n      <td>M7Y</td>\n      <td>East Toronto</td>\n      <td>Business reply mail Processing Centre969 Easte...</td>\n    </tr>\n    <tr>\n      <th>88</th>\n      <td>M8V</td>\n      <td>Etobicoke</td>\n      <td>Humber Bay Shores\\n, Mimico South\\n, New Toronto</td>\n    </tr>\n    <tr>\n      <th>93</th>\n      <td>M8W</td>\n      <td>Etobicoke</td>\n      <td>Alderwood, Long Branch</td>\n    </tr>\n    <tr>\n      <th>98</th>\n      <td>M8X</td>\n      <td>Etobicoke</td>\n      <td>The Kingsway, Montgomery Road\\n, Old Mill North\\n</td>\n    </tr>\n    <tr>\n      <th>101</th>\n      <td>M8Y</td>\n      <td>Etobicoke</td>\n      <td>Humber Bay, King's Mill Park, Kingsway Park So...</td>\n    </tr>\n    <tr>\n      <th>102</th>\n      <td>M8Z</td>\n      <td>Etobicoke</td>\n      <td>Kingsway Park South West\\n, Mimico NW, The Que...</td>\n    </tr>\n    <tr>\n      <th>5</th>\n      <td>M9A</td>\n      <td>Etobicoke</td>\n      <td>Islington Avenue</td>\n    </tr>\n    <tr>\n      <th>11</th>\n      <td>M9B</td>\n      <td>Etobicoke</td>\n      <td>Cloverdale\\n, Islington, Martin Grove\\n, Princ...</td>\n    </tr>\n    <tr>\n      <th>17</th>\n      <td>M9C</td>\n      <td>Etobicoke</td>\n      <td>Bloordale Gardens\\n, Eringate\\n, Markland Wood...</td>\n    </tr>\n    <tr>\n      <th>50</th>\n      <td>M9L</td>\n      <td>North York</td>\n      <td>Humber Summit</td>\n    </tr>\n    <tr>\n      <th>57</th>\n      <td>M9M</td>\n      <td>North York</td>\n      <td>Emery, Humberlea</td>\n    </tr>\n    <tr>\n      <th>64</th>\n      <td>M9N</td>\n      <td>York</td>\n      <td>Weston</td>\n    </tr>\n    <tr>\n      <th>70</th>\n      <td>M9P</td>\n      <td>Etobicoke</td>\n      <td>Westmount</td>\n    </tr>\n    <tr>\n      <th>77</th>\n      <td>M9R</td>\n      <td>Etobicoke</td>\n      <td>Kingsview Village, Martin Grove Gardens\\n, Ric...</td>\n    </tr>\n    <tr>\n      <th>89</th>\n      <td>M9V</td>\n      <td>Etobicoke</td>\n      <td>Albion Gardens\\n, Beaumond Heights, Humbergate...</td>\n    </tr>\n    <tr>\n      <th>94</th>\n      <td>M9W</td>\n      <td>Etobicoke</td>\n      <td>Northwest</td>\n    </tr>\n  </tbody>\n</table>\n<p>103 rows \u00d7 3 columns</p>\n</div>"
                    }, 
                    "execution_count": 124, 
                    "metadata": {}
                }
            ], 
            "execution_count": 124
        }, 
        {
            "source": "", 
            "cell_type": "code", 
            "metadata": {}, 
            "outputs": [], 
            "execution_count": null
        }
    ], 
    "metadata": {
        "kernelspec": {
            "display_name": "Python 3.5", 
            "name": "python3", 
            "language": "python"
        }, 
        "language_info": {
            "mimetype": "text/x-python", 
            "nbconvert_exporter": "python", 
            "version": "3.5.5", 
            "name": "python", 
            "pygments_lexer": "ipython3", 
            "file_extension": ".py", 
            "codemirror_mode": {
                "version": 3, 
                "name": "ipython"
            }
        }
    }, 
    "nbformat": 4
}