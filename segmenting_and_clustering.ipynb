{
    "nbformat_minor": 1, 
    "cells": [
        {
            "source": "# SEGMENTING AND CLUSTERING NEIGHBORHOODS OF TORONTO", 
            "cell_type": "markdown", 
            "metadata": {
                "collapsed": true
            }
        }, 
        {
            "source": "### 1 Importing Libraries", 
            "cell_type": "markdown", 
            "metadata": {}
        }, 
        {
            "source": "import numpy as np            # for efficient numerical operations\nimport pandas as pd           # for data frame analytics\nimport requests               # for pulling html pages and creating html documents\nfrom bs4 import BeautifulSoup # for scraping html documents", 
            "cell_type": "code", 
            "metadata": {}, 
            "outputs": [], 
            "execution_count": 1
        }, 
        {
            "source": "### 2 Parsing the Wikipedia page on Toronto postal codes\n\nBy means of the <i>requests</i> library which has been loaded above, the link provided in the description of the assignment can be employed to retrieve the html page pointed to be that link. This is acchieved via the <i>requests.get()</i> function. Once the html page is retrieved the underlying html document stored in the <i>text</i> attribute of the page object. Lastly, this hmtl document is parsed by means of the <i>BeautifulSoup</i> library.", 
            "cell_type": "markdown", 
            "metadata": {}
        }, 
        {
            "source": "html_link = 'https://en.wikipedia.org/wiki/List_of_postal_codes_of_Canada:_M'\nhtml_page = requests.get(html_link)\nhtml_doc = html_page.text\nsoup = BeautifulSoup(html_doc,'html.parser')", 
            "cell_type": "code", 
            "metadata": {}, 
            "outputs": [], 
            "execution_count": 2
        }, 
        {
            "source": "### 3 Scraping the html document", 
            "cell_type": "markdown", 
            "metadata": {}
        }, 
        {
            "source": "#### 3.1 Searching the postal code table in the html document and creating a dataframe from it\nFirstly, the soup object is searched for the table by means of the <i>find()</i> function and specifying the html tag <i>table</i>. With the help of that same function the rows (html tagged <i>tr</i>) are then extracted from the table, and headers (html tagged <i>th</i>) are extracted from the first row. These headers, together with the number of rows are employed to create a raw pandas dataframe <i>table_df</i> which contains all rows of the table found on the wikipedia page.", 
            "cell_type": "markdown", 
            "metadata": {}
        }, 
        {
            "source": "table = soup.find('table')                                                   # searching for table in html document\nrows = table.findAll('tr')                                                   # gathering all rows in that table\nheader = rows[0].findAll('th')                                               # gathering all column headers in first row of the table\ncol_num = len(header)                                                        # number of columns equals number of headers found and hence the length of the header object\nrow_num = len(rows)-1                                                        # number of rows equals number of table rows minus one since first row did contain column headers\n\ncolumns = list()                                                             # writing column headers into a list\nfor c in range(col_num):\n    if c != col_num-1:\n        columns.append(header[c].string.lower())\n    else:\n        columns.append(header[c].string[:-1].lower())\n\ntable_df = pd.DataFrame(columns=columns,index=range(row_num))                # creating a pandas data frame with column names defined by the list of column headers and index defined by number of rows\n\nfor i in range(row_num):                                                     # filling the table row by row\n    row = rows[i+1].findAll('td')\n    for c in range(col_num):\n        table_df.iloc[i,c] = row[c].string\n        if table_df.iloc[i,c] == None:                                       # the entry of the wikipedia table may have been a string or a hyperlink. If the latter the td object does not provide the string\n            table_df.iloc[i,c] = row[c].a.string                             # but its child 'a' does\n\nfor i in table_df.index:                                                     # removing line breaks\n    if table_df.loc[i,'neighbourhood'][-1:] == '\\n':\n        table_df.loc[i,'neighbourhood']=table_df.loc[i,'neighbourhood'][:-1]\n        \ntable_df.head()", 
            "cell_type": "code", 
            "metadata": {}, 
            "outputs": [
                {
                    "output_type": "execute_result", 
                    "data": {
                        "text/html": "<div>\n<style scoped>\n    .dataframe tbody tr th:only-of-type {\n        vertical-align: middle;\n    }\n\n    .dataframe tbody tr th {\n        vertical-align: top;\n    }\n\n    .dataframe thead th {\n        text-align: right;\n    }\n</style>\n<table border=\"1\" class=\"dataframe\">\n  <thead>\n    <tr style=\"text-align: right;\">\n      <th></th>\n      <th>postcode</th>\n      <th>borough</th>\n      <th>neighbourhood</th>\n    </tr>\n  </thead>\n  <tbody>\n    <tr>\n      <th>0</th>\n      <td>M1A</td>\n      <td>Not assigned</td>\n      <td>Not assigned</td>\n    </tr>\n    <tr>\n      <th>1</th>\n      <td>M2A</td>\n      <td>Not assigned</td>\n      <td>Not assigned</td>\n    </tr>\n    <tr>\n      <th>2</th>\n      <td>M3A</td>\n      <td>North York</td>\n      <td>Parkwoods</td>\n    </tr>\n    <tr>\n      <th>3</th>\n      <td>M4A</td>\n      <td>North York</td>\n      <td>Victoria Village</td>\n    </tr>\n    <tr>\n      <th>4</th>\n      <td>M5A</td>\n      <td>Downtown Toronto</td>\n      <td>Harbourfront</td>\n    </tr>\n  </tbody>\n</table>\n</div>", 
                        "text/plain": "  postcode           borough     neighbourhood\n0      M1A      Not assigned      Not assigned\n1      M2A      Not assigned      Not assigned\n2      M3A        North York         Parkwoods\n3      M4A        North York  Victoria Village\n4      M5A  Downtown Toronto      Harbourfront"
                    }, 
                    "execution_count": 11, 
                    "metadata": {}
                }
            ], 
            "execution_count": 11
        }, 
        {
            "source": "#### 3.2 Manipulating the raw dataframe\nNext, those rows of the raw dataframe <i>table_df</i> data frame who have no borough assigned, are dropped. Next, if among the remaining entries the neighborhood is not assigned, the neighborhood name will be the same as the borough name.", 
            "cell_type": "markdown", 
            "metadata": {}
        }, 
        {
            "source": "for i in table_df.index:\n    if table_df.loc[i,'borough'] == 'Not assigned':\n        table_df = table_df.drop(i,axis=0)\n    elif table_df.loc[i,'neighbourhood'] == 'Not assigned':\n        table_df.loc[i,'neighbourhood'] = table_df.loc[i,'borough']\n        \ntable_df.head()", 
            "cell_type": "code", 
            "metadata": {}, 
            "outputs": [
                {
                    "output_type": "execute_result", 
                    "data": {
                        "text/html": "<div>\n<style scoped>\n    .dataframe tbody tr th:only-of-type {\n        vertical-align: middle;\n    }\n\n    .dataframe tbody tr th {\n        vertical-align: top;\n    }\n\n    .dataframe thead th {\n        text-align: right;\n    }\n</style>\n<table border=\"1\" class=\"dataframe\">\n  <thead>\n    <tr style=\"text-align: right;\">\n      <th></th>\n      <th>postcode</th>\n      <th>borough</th>\n      <th>neighbourhood</th>\n    </tr>\n  </thead>\n  <tbody>\n    <tr>\n      <th>2</th>\n      <td>M3A</td>\n      <td>North York</td>\n      <td>Parkwoods</td>\n    </tr>\n    <tr>\n      <th>3</th>\n      <td>M4A</td>\n      <td>North York</td>\n      <td>Victoria Village</td>\n    </tr>\n    <tr>\n      <th>4</th>\n      <td>M5A</td>\n      <td>Downtown Toronto</td>\n      <td>Harbourfront</td>\n    </tr>\n    <tr>\n      <th>5</th>\n      <td>M5A</td>\n      <td>Downtown Toronto</td>\n      <td>Regent Park</td>\n    </tr>\n    <tr>\n      <th>6</th>\n      <td>M6A</td>\n      <td>North York</td>\n      <td>Lawrence Heights</td>\n    </tr>\n  </tbody>\n</table>\n</div>", 
                        "text/plain": "  postcode           borough     neighbourhood\n2      M3A        North York         Parkwoods\n3      M4A        North York  Victoria Village\n4      M5A  Downtown Toronto      Harbourfront\n5      M5A  Downtown Toronto       Regent Park\n6      M6A        North York  Lawrence Heights"
                    }, 
                    "execution_count": 12, 
                    "metadata": {}
                }
            ], 
            "execution_count": 12
        }, 
        {
            "source": "#### 3.3  Creating a clean postal code dataframe from the raw data frame\nLastly, from the raw dataframe <i>table_df</i> the unique postal codes are collected and employed to create a clean dataframe <i>code_df</i> which lists codes, borough names and all associated neighborhoods.", 
            "cell_type": "markdown", 
            "metadata": {}
        }, 
        {
            "source": "code_list = list(table_df['postcode'].unique())\ncode_df = pd.DataFrame(columns=columns,index=range(len(code_list)))\n\nfor i in code_df.index:\n    code = code_list[i]\n    sub_df = table_df[table_df['postcode']==code]\n    hood_string = ''\n    for j in range(sub_df.shape[0]):\n        hood_string = hood_string + sub_df.loc[sub_df.index[j],'neighbourhood'] + ', '\n    hood_string = hood_string[:-2]\n    code_df.loc[i,'postcode'] = code\n    code_df.loc[i,'borough'] = sub_df.loc[sub_df.index[0],'borough']\n    code_df.loc[i,'neighbourhood'] = hood_string\n    \ncode_df.sort_values('postcode',inplace=True)\ncode_df.reset_index(inplace=True)\ncode_df.drop('index',axis=1,inplace=True)\n    \ncode_df.head()", 
            "cell_type": "code", 
            "metadata": {}, 
            "outputs": [
                {
                    "output_type": "execute_result", 
                    "data": {
                        "text/html": "<div>\n<style scoped>\n    .dataframe tbody tr th:only-of-type {\n        vertical-align: middle;\n    }\n\n    .dataframe tbody tr th {\n        vertical-align: top;\n    }\n\n    .dataframe thead th {\n        text-align: right;\n    }\n</style>\n<table border=\"1\" class=\"dataframe\">\n  <thead>\n    <tr style=\"text-align: right;\">\n      <th></th>\n      <th>postcode</th>\n      <th>borough</th>\n      <th>neighbourhood</th>\n    </tr>\n  </thead>\n  <tbody>\n    <tr>\n      <th>0</th>\n      <td>M1B</td>\n      <td>Scarborough</td>\n      <td>Rouge, Malvern</td>\n    </tr>\n    <tr>\n      <th>1</th>\n      <td>M1C</td>\n      <td>Scarborough</td>\n      <td>Highland Creek, Rouge Hill, Port Union</td>\n    </tr>\n    <tr>\n      <th>2</th>\n      <td>M1E</td>\n      <td>Scarborough</td>\n      <td>Guildwood, Morningside, West Hill</td>\n    </tr>\n    <tr>\n      <th>3</th>\n      <td>M1G</td>\n      <td>Scarborough</td>\n      <td>Woburn</td>\n    </tr>\n    <tr>\n      <th>4</th>\n      <td>M1H</td>\n      <td>Scarborough</td>\n      <td>Cedarbrae</td>\n    </tr>\n  </tbody>\n</table>\n</div>", 
                        "text/plain": "  postcode      borough                           neighbourhood\n0      M1B  Scarborough                          Rouge, Malvern\n1      M1C  Scarborough  Highland Creek, Rouge Hill, Port Union\n2      M1E  Scarborough       Guildwood, Morningside, West Hill\n3      M1G  Scarborough                                  Woburn\n4      M1H  Scarborough                               Cedarbrae"
                    }, 
                    "execution_count": 16, 
                    "metadata": {}
                }
            ], 
            "execution_count": 16
        }, 
        {
            "source": "Finally, the number of rows of the <i>code_df</i> dataframe can be infered from its <i>shape[0]</i> object.", 
            "cell_type": "markdown", 
            "metadata": {}
        }, 
        {
            "source": "print('Number of postcodes: ',code_df.shape[0])", 
            "cell_type": "code", 
            "metadata": {}, 
            "outputs": [
                {
                    "output_type": "stream", 
                    "name": "stdout", 
                    "text": "Number of postcodes:  103\n"
                }
            ], 
            "execution_count": 17
        }, 
        {
            "source": "", 
            "cell_type": "code", 
            "metadata": {}, 
            "outputs": [], 
            "execution_count": null
        }
    ], 
    "metadata": {
        "kernelspec": {
            "display_name": "Python 3.5", 
            "name": "python3", 
            "language": "python"
        }, 
        "language_info": {
            "mimetype": "text/x-python", 
            "nbconvert_exporter": "python", 
            "version": "3.5.5", 
            "name": "python", 
            "pygments_lexer": "ipython3", 
            "file_extension": ".py", 
            "codemirror_mode": {
                "version": 3, 
                "name": "ipython"
            }
        }
    }, 
    "nbformat": 4
}