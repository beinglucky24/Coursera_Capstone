{
    "nbformat_minor": 1, 
    "cells": [
        {
            "source": "<h1>MODELLING SWISS VOTATION OUTCOMES</h1>\n<h3>Coursera Capstone Report for the IBM Professional Certificate in Data Science</h3><br>\nJuliane Klatt\n<hr>\n<h2>Table of Contents</h2>\n<ol>\n    <li><a href=\"#intro\">Introduction</a></li>\n    <li><a href=\"#data\">Data</a></li>\n        <ol>\n            <li><a href=\"#pleb\">Swiss Plebiscite Data</a></li>\n            <li><a href=\"#mun\">List of Swiss Municipalities</a></li>\n            <li><a href=\"#four\">Foursquare Location Data</a></li>\n        </ol>\n    <li><a href=\"#meth\">Methodology</a></li>\n    <li><a href=\"#ana\">Analysis</a></li>\n    <li><a href=\"#res\">Results</a></li>\n    <li><a href=\"#con\">Conclusion</a></li>\n    <li><a href=\"#ref\">References</a></li>\n</ol>", 
            "cell_type": "markdown", 
            "metadata": {
                "collapsed": true
            }
        }, 
        {
            "source": "<a id='intro'></a>\n<hr>\n<h2>1. Introduction</h2>\n\n<p>In Switzerland, plebiscites at federal, cantonal, and municipal level are a central feature of political life. It is not the government's choice whether or when a referendum is held, but it is a legal procedure regulated by the Swiss constitution. There are two types of referendums: optional and mandatory referendums. Any federal law, certain other federal resolutions, and international treaties that are ongoing in nature, or any change to Swiss law may be subject to an optional referendum. Such referendum takes place if at least 50,000 people or eight cantons have petitioned to do so within 100 days. Mandatory referendums take place on any amendment to the constitution and on any joining of a multinational community or organization for collective security. Constitutional amendments are proposed by the parliament or by the cantons or by federal popular initiative.</p>\n<p>In this project we will investigate whether canton-level outcomes of Swiss federal plebiscites are correlated with the type and quantity of venues present in a canton. Once correlations have been identified, several classification models will be built and compared in their ability to correctly predict swiss votation outcomes by canton based on the canton's venue characteristics.</p>", 
            "cell_type": "markdown", 
            "metadata": {}
        }, 
        {
            "source": "<a id='data'></a>\n<hr>\n<h2>2. Data</h2>\n<p>\nIn order to meet the above objectives, several data sources are required. We need to infer canton-level outcomes of past referencdums, and we need list of venues per canton.\n<ul>\n    <li><a href=\"https://www.bk.admin.ch/bk/de/home/politische-rechte/volksabstimmungen.html\">Swiss plebiscite data</a><br>\n        Swiss authorities provide the canton-level outcomes of federal plebiscites since 1848\n    </li>\n    <li><a href=\"https://en.wikipedia.org/wiki/List_of_municipalities_of_Switzerland\">List of Swiss municipalities</a><br>\n        Wikipedia provides a list of Swiss municipalities by canton \n    </li>\n    <li><a href=\"https://foursquare.com/\">Foursquare location data</a><br>\n        Foursquare provides venue data for municipalities of interest\n    </li>\n</ul>\nIn the following we will compile the aborementioned data in dataframes and quickly characterize their properties.\n</p>", 
            "cell_type": "markdown", 
            "metadata": {}
        }, 
        {
            "source": "<a id='pleb'></a>\n<h3>2.A. Swiss Plebiscite Data</h3>\n<p>The canton-level outcomes of past Swiss federal plebiscites since 1848 are published by Swiss authorities on <a href=\"https://www.bk.admin.ch/ch/d/pore/va/vab_2_2_4_1.html\">www.bk.admin.ch</a>. We will pull websites by means of the <b>requests</b> package and scrape their respective content employing the <b>BeautifulSoup</b> package.", 
            "cell_type": "markdown", 
            "metadata": {}
        }, 
        {
            "source": "import requests                                                                                           # importing the requests package for pulling html documents from links\nfrom bs4 import BeautifulSoup as bs                                                                       # importing the beautifulsoup package for scraping web content\n                                                                                                          #\nplebiscite_link = 'https://www.bk.admin.ch/ch/d/pore/va/vab_2_2_4_1_gesamt.html'                          # the link to the overview of all federal plebiscites since 1848\nplebiscite_doc  = requests.get(plebiscite_link).text                                                      # pulling the html document of pointed to by the link\nplebiscite_soup = bs(plebiscite_doc,'html.parser')                                                        # parsing the html document into a xml-like tree structure\nplebiscite_rows = plebiscite_soup.find('table').findAll('tr')[1:]                                         # searching the tree for the table of plebiscites and storing all but its 1st row in a list", 
            "cell_type": "code", 
            "metadata": {}, 
            "outputs": [], 
            "execution_count": 1
        }, 
        {
            "source": "from tqdm import tqdm                                                                                     # importing tqdm package in order to display progess bars for loops\nimport pandas as pd                                                                                       # importing pandas package in order to be able to deal with dataframes\n                                                                                                          #\ndef rep(s):                                                                                               # defining a function which corrects for ill-decoded umlauts and other non-standard characters\n    t = s.replace('\u00c3\u00bc','\u00fc').replace('\u00c3\u00b6','\u00f6').replace('\u00c3\u00a4','\u00e4').replace(\"\u00c2\u00ab\",\"'\").replace(\"\u00c2\u00bb\",\"'\")       #\n    return t                                                                                              #\n                                                                                                          #\nplebiscite_df = pd.DataFrame(index=range(1000),columns=['date','title'])                                  # allocating data frame for plebiscites with a 1000 rows, i.e., room for 1000 referendums\ni             = 0                                                                                         # initiate counter keeping track of dataframe index\nprevious_link = ''                                                                                        # initiate link object\nfor r in tqdm(plebiscite_rows):                                                                           # loop through all referendums\n    r_link  = 'https://www.bk.admin.ch/ch/d/pore/va/'+r.findAll('a',href=True)[0]['href']                 # construct link to overview of all referendums on a given date\n    if  r_link != previous_link:                                                                          # check whether the link has been visited before (happens if multiple referendums on same day)\n        r_doc   = requests.get(r_link).text                                                               # pulling the html document of pointed to by the link\n        r_soup  = bs(r_doc,'html.parser')                                                                 # parsing the html document into a xml-like tree structure\n        if len(r_soup.findAll('article')) != 0:                                                           # check whether page contains overview of referendums on that date\n            for href in r_soup.findAll('article')[0].findAll('a',href=True):                              # loop through all link extensions on the page\n                if href['href'].startswith(\"./can\"):                                                      # checking whether link extension points to canton-level results of a referendum\n                    p_link  = r_link[:-11]+href['href'][1:]                                               # construct link to canton-level results\n                    p_doc   = requests.get(p_link).text                                                   # pulling the html document of pointed to by the link\n                    p_soup  = bs(p_doc,'html.parser')                                                     # parsing the html document into a xml-like tree structure\n                    entries = p_soup.find('table').find('tbody').findAll('tr')                            # searching the tree for the table of cantons and storing all canton entries in a list\n                    for e in entries[:-1]:                                                                # looping through all but last row, because last row list swiss total not canton\n                        canton = e.findAll('td')[0].string.replace('\u00c3\u00bc','\u00fc')                              # name of canton extracted from 0th column\n                        yes    = int(e.findAll('td')[4].string.replace(\"'\",''))                           # number of yes votes extracted from 4th column, 1000 marker \"'\" has to be removed\n                        no     = int(e.findAll('td')[5].string.replace(\"'\",''))                           # number of no votes extracted from 5th column of the results table \n                        if yes > no : vote = 1                                                            # if more yes than no votes, then 1 for affirmative result\n                        else:         vote = 0                                                            # else 0 for non-affirmative result\n                        if canton not in plebiscite_df.columns: plebiscite_df[canton] = ''                # add canton column to dataframe if not yet existent\n                        plebiscite_df.loc[i,canton] = vote                                                # canton column of current referendum (indexed i) is filled with canton's result\n                    plebiscite_df.loc[i,'date']     = r.findAll('a',href=True)[0].string                  # after all canton results have been entered, record date of the referendum in date column\n                    plebiscite_df.loc[i,'title']    = rep(p_soup.findAll('h3')[0].string)                 # after all canton results have been entered, record title of the referendum in title column\n                    i += 1                                                                                # increasing index by 1 such that next referendum results are stored in next row\n        previous_link = r_link                                                                            # store link to overview of all referendums on a given date to be able to compare to it\nplebiscite_df = plebiscite_df[:i].drop('Milit\u00c3\u00a4rschulen',axis=1).drop_duplicates().reset_index(drop=True) # dropping duplicate entries and the military school votes since they do not correspond to any canton\nprint(\"Dataframe of \"+str(plebiscite_df.shape[0])+\" referendums successfuly constructed!\")                #", 
            "cell_type": "code", 
            "metadata": {}, 
            "outputs": [
                {
                    "output_type": "stream", 
                    "name": "stderr", 
                    "text": "100%|\u2588\u2588\u2588\u2588\u2588\u2588\u2588\u2588\u2588\u2588| 638/638 [14:21<00:00,  1.35s/it]"
                }, 
                {
                    "output_type": "stream", 
                    "name": "stdout", 
                    "text": "Dataframe of 607 referendums successfuly constructed!\n"
                }, 
                {
                    "output_type": "stream", 
                    "name": "stderr", 
                    "text": "\n"
                }
            ], 
            "execution_count": 2
        }, 
        {
            "source": "plebiscite_df.head()", 
            "cell_type": "code", 
            "metadata": {}, 
            "outputs": [
                {
                    "output_type": "execute_result", 
                    "data": {
                        "text/html": "<div>\n<style scoped>\n    .dataframe tbody tr th:only-of-type {\n        vertical-align: middle;\n    }\n\n    .dataframe tbody tr th {\n        vertical-align: top;\n    }\n\n    .dataframe thead th {\n        text-align: right;\n    }\n</style>\n<table border=\"1\" class=\"dataframe\">\n  <thead>\n    <tr style=\"text-align: right;\">\n      <th></th>\n      <th>date</th>\n      <th>title</th>\n      <th>Z\u00fcrich</th>\n      <th>Bern</th>\n      <th>Luzern</th>\n      <th>Uri</th>\n      <th>Schwyz</th>\n      <th>Obwalden</th>\n      <th>Nidwalden</th>\n      <th>Glarus</th>\n      <th>...</th>\n      <th>St. Gallen</th>\n      <th>Graub\u00fcnden</th>\n      <th>Aargau</th>\n      <th>Thurgau</th>\n      <th>Tessin</th>\n      <th>Waadt</th>\n      <th>Wallis</th>\n      <th>Neuenburg</th>\n      <th>Genf</th>\n      <th>Jura</th>\n    </tr>\n  </thead>\n  <tbody>\n    <tr>\n      <th>0</th>\n      <td>12.05.1872</td>\n      <td>Totalrevision</td>\n      <td>1</td>\n      <td>1</td>\n      <td>0</td>\n      <td>0</td>\n      <td>0</td>\n      <td>0</td>\n      <td>0</td>\n      <td>1</td>\n      <td>...</td>\n      <td>1</td>\n      <td>0</td>\n      <td>1</td>\n      <td>1</td>\n      <td>0</td>\n      <td>0</td>\n      <td>0</td>\n      <td>0</td>\n      <td>0</td>\n      <td></td>\n    </tr>\n    <tr>\n      <th>1</th>\n      <td>19.04.1874</td>\n      <td>Totalrevision</td>\n      <td>1</td>\n      <td>1</td>\n      <td>0</td>\n      <td>0</td>\n      <td>0</td>\n      <td>0</td>\n      <td>0</td>\n      <td>1</td>\n      <td>...</td>\n      <td>1</td>\n      <td>1</td>\n      <td>1</td>\n      <td>1</td>\n      <td>0</td>\n      <td>1</td>\n      <td>0</td>\n      <td>1</td>\n      <td>1</td>\n      <td></td>\n    </tr>\n    <tr>\n      <th>2</th>\n      <td>23.05.1875</td>\n      <td>Bundesgesez betreffend Feststellung und Beurku...</td>\n      <td>1</td>\n      <td>1</td>\n      <td>0</td>\n      <td>0</td>\n      <td>0</td>\n      <td>0</td>\n      <td>0</td>\n      <td>1</td>\n      <td>...</td>\n      <td>0</td>\n      <td>0</td>\n      <td>1</td>\n      <td>1</td>\n      <td>0</td>\n      <td>0</td>\n      <td>0</td>\n      <td>1</td>\n      <td>1</td>\n      <td></td>\n    </tr>\n    <tr>\n      <th>3</th>\n      <td>23.05.1875</td>\n      <td>Bundesgesez \u00fcber die politische Stimmberechtig...</td>\n      <td>1</td>\n      <td>1</td>\n      <td>0</td>\n      <td>0</td>\n      <td>0</td>\n      <td>0</td>\n      <td>0</td>\n      <td>1</td>\n      <td>...</td>\n      <td>0</td>\n      <td>0</td>\n      <td>0</td>\n      <td>1</td>\n      <td>0</td>\n      <td>0</td>\n      <td>0</td>\n      <td>1</td>\n      <td>1</td>\n      <td></td>\n    </tr>\n    <tr>\n      <th>4</th>\n      <td>23.04.1876</td>\n      <td>Bundesgesez \u00fcber die Ausgabe und Einl\u00f6sung von...</td>\n      <td>1</td>\n      <td>0</td>\n      <td>0</td>\n      <td>0</td>\n      <td>1</td>\n      <td>0</td>\n      <td>0</td>\n      <td>1</td>\n      <td>...</td>\n      <td>0</td>\n      <td>0</td>\n      <td>0</td>\n      <td>0</td>\n      <td>0</td>\n      <td>1</td>\n      <td>0</td>\n      <td>0</td>\n      <td>0</td>\n      <td></td>\n    </tr>\n  </tbody>\n</table>\n<p>5 rows \u00d7 28 columns</p>\n</div>", 
                        "text/plain": "         date                                              title Z\u00fcrich Bern  \\\n0  12.05.1872                                      Totalrevision      1    1   \n1  19.04.1874                                      Totalrevision      1    1   \n2  23.05.1875  Bundesgesez betreffend Feststellung und Beurku...      1    1   \n3  23.05.1875  Bundesgesez \u00fcber die politische Stimmberechtig...      1    1   \n4  23.04.1876  Bundesgesez \u00fcber die Ausgabe und Einl\u00f6sung von...      1    0   \n\n  Luzern Uri Schwyz Obwalden Nidwalden Glarus ...  St. Gallen Graub\u00fcnden  \\\n0      0   0      0        0         0      1 ...           1          0   \n1      0   0      0        0         0      1 ...           1          1   \n2      0   0      0        0         0      1 ...           0          0   \n3      0   0      0        0         0      1 ...           0          0   \n4      0   0      1        0         0      1 ...           0          0   \n\n  Aargau Thurgau Tessin Waadt Wallis Neuenburg Genf Jura  \n0      1       1      0     0      0         0    0       \n1      1       1      0     1      0         1    1       \n2      1       1      0     0      0         1    1       \n3      0       1      0     0      0         1    1       \n4      0       0      0     1      0         0    0       \n\n[5 rows x 28 columns]"
                    }, 
                    "execution_count": 3, 
                    "metadata": {}
                }
            ], 
            "execution_count": 3
        }, 
        {
            "source": "<a id='mun'></a>\n<h3>2.B. Swiss Municipalities by Canton and Georeferences</h3>\n<p>As mentioned in the introduction, we want to investigate correlations between the above canton-level votation outcomes and the various venue profiles of Swiss cantons. In order to infer a canton's venues by means of the Foursquare API, we need a more granular grid of georeferences within the cantons. To that end, we look up all 2'551 Swiss municipalities from <a href=\"https://en.wikipedia.org/wiki/List_of_municipalities_of_Switzerland\">Wikipedia</a>. A municipality's venues may then be infered via Foursquare and by associating the municipalities with their respective canton, the venue profiles of the cantons can be built.</p>", 
            "cell_type": "markdown", 
            "metadata": {}
        }, 
        {
            "source": "municipality_link = 'https://en.wikipedia.org/wiki/List_of_municipalities_of_Switzerland'                 # the link to the wikipedia page on Swiss municipalities\nmunicipality_doc  = requests.get(municipality_link).text                                                  # pulling the html document of pointed to by the link\nmunicipality_soup = bs(municipality_doc,'html.parser')                                                    # parsing the html document into a xml-like tree structure\nmunicipality_rows = municipality_soup.find('table').findAll('tr')[1:]                                     # searching the tree for the table of municipalities and storing all but its first row in a list", 
            "cell_type": "code", 
            "metadata": {}, 
            "outputs": [], 
            "execution_count": 6
        }, 
        {
            "source": "municipality_df = pd.DataFrame(index=range(len(municipality_rows)),columns=['canton','municipality'])     #\n                                                                                                          #\nfor i in tqdm(municipality_df.index):                                                                     #\n    municipality_df.loc[i,'municipality'] = municipality_rows[i].findAll('td')[0].string                  #\n    municipality_df.loc[i,'canton']       = municipality_rows[i].findAll('td')[1].string                  #\n                                                                                                          #\nmunicipality_df = municipality_df.sort_values(['canton','municipality']).reset_index(drop=True)           #\nprint(\"Dataframe of \"+str(municipality_df.shape[0])+\" municipalities successfuly constructed!\")", 
            "cell_type": "code", 
            "metadata": {}, 
            "outputs": [
                {
                    "output_type": "stream", 
                    "name": "stderr", 
                    "text": "100%|\u2588\u2588\u2588\u2588\u2588\u2588\u2588\u2588\u2588\u2588| 2551/2551 [00:02<00:00, 1045.04it/s]"
                }, 
                {
                    "output_type": "stream", 
                    "name": "stdout", 
                    "text": "Dataframe of 2551 municipalities successfuly constructed!\n"
                }, 
                {
                    "output_type": "stream", 
                    "name": "stderr", 
                    "text": "\n"
                }
            ], 
            "execution_count": 20
        }, 
        {
            "source": "municipality_df.head()", 
            "cell_type": "code", 
            "metadata": {}, 
            "outputs": [
                {
                    "output_type": "execute_result", 
                    "data": {
                        "text/html": "<div>\n<style scoped>\n    .dataframe tbody tr th:only-of-type {\n        vertical-align: middle;\n    }\n\n    .dataframe tbody tr th {\n        vertical-align: top;\n    }\n\n    .dataframe thead th {\n        text-align: right;\n    }\n</style>\n<table border=\"1\" class=\"dataframe\">\n  <thead>\n    <tr style=\"text-align: right;\">\n      <th></th>\n      <th>canton</th>\n      <th>municipality</th>\n    </tr>\n  </thead>\n  <tbody>\n    <tr>\n      <th>0</th>\n      <td>Aargau</td>\n      <td>Aarau</td>\n    </tr>\n    <tr>\n      <th>1</th>\n      <td>Aargau</td>\n      <td>Aarburg</td>\n    </tr>\n    <tr>\n      <th>2</th>\n      <td>Aargau</td>\n      <td>Abtwil</td>\n    </tr>\n    <tr>\n      <th>3</th>\n      <td>Aargau</td>\n      <td>Ammerswil</td>\n    </tr>\n    <tr>\n      <th>4</th>\n      <td>Aargau</td>\n      <td>Aristau</td>\n    </tr>\n  </tbody>\n</table>\n</div>", 
                        "text/plain": "    canton municipality\n0  Aargau\n        Aarau\n1  Aargau\n      Aarburg\n2  Aargau\n       Abtwil\n3  Aargau\n    Ammerswil\n4  Aargau\n      Aristau"
                    }, 
                    "execution_count": 21, 
                    "metadata": {}
                }
            ], 
            "execution_count": 21
        }, 
        {
            "source": "<a id='four'></a>\n<h3>2.C. Foursquare Location Data</h3>\n<a href=\"https://foursquare.com/\">Source</a>", 
            "cell_type": "markdown", 
            "metadata": {}
        }, 
        {
            "source": "<a id='meth'></a>\n<hr>\n<h2>3. Methodology</h2>", 
            "cell_type": "markdown", 
            "metadata": {}
        }, 
        {
            "source": "<a id='ana'></a>\n<hr>\n<h2>4. Analysis</h2>", 
            "cell_type": "markdown", 
            "metadata": {}
        }, 
        {
            "source": "<a id='res'></a>\n<hr>\n<h2>5. Results</h2>", 
            "cell_type": "markdown", 
            "metadata": {}
        }, 
        {
            "source": "<a id='con'></a>\n<hr>\n<h2>6. Conclusion</h2>", 
            "cell_type": "markdown", 
            "metadata": {}
        }, 
        {
            "source": "<a id='ref'></a>\n<hr>\n<h2>7. References</h2>", 
            "cell_type": "markdown", 
            "metadata": {}
        }
    ], 
    "metadata": {
        "kernelspec": {
            "display_name": "Python 3.5", 
            "name": "python3", 
            "language": "python"
        }, 
        "language_info": {
            "mimetype": "text/x-python", 
            "nbconvert_exporter": "python", 
            "version": "3.5.5", 
            "name": "python", 
            "file_extension": ".py", 
            "pygments_lexer": "ipython3", 
            "codemirror_mode": {
                "version": 3, 
                "name": "ipython"
            }
        }
    }, 
    "nbformat": 4
}