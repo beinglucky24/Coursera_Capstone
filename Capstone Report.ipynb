{
    "nbformat_minor": 1, 
    "cells": [
        {
            "source": "<h1>MODELLING SWISS VOTATION OUTCOMES</h1>\n<h3>Coursera Capstone Report for the IBM Professional Certificate in Data Science</h3><br>\nJuliane Klatt\n<hr>\n<h2>Table of Contents</h2>\n<ol>\n    <li><a href=\"#intro\">Introduction</a></li>\n    <li><a href=\"#data\">Data</a></li>\n        <ol>\n            <li>Swiss Plebiscite Data</li>\n            <li>List of Swiss Municipalities</li>\n            <li>Foursquare Location Data</li>\n        </ol>\n    <li><a href=\"#meth\">Methodology</a></li>\n    <li><a href=\"#ana\">Analysis</a></li>\n    <li><a href=\"#res\">Results</a></li>\n    <li><a href=\"#con\">Conclusion</a></li>\n    <li><a href=\"#ref\">References</a></li>\n</ol>", 
            "cell_type": "markdown", 
            "metadata": {
                "collapsed": true
            }
        }, 
        {
            "source": "<a id='intro'></a>\n<hr>\n<h2>1. Introduction</h2>\n\n<p>In Switzerland Swiss voters can demand a binding referendum at federal, cantonal, and municipal level. They are a central feature of Swiss political life. It is not the government's choice whether or when a referendum is held, but it is a legal procedure regulated by the Swiss constitution. There are two types of referendums: optional and mandatory referendums. Any federal law, certain other federal resolutions, and international treaties that are ongoing in nature, or any change to Swiss law may be subject to an optional referendum. Such referendum takes place if at least 50,000 people or eight cantons have petitioned to do so within 100 days. Mandatory referendums take place on any amendment to the constitution and on any joining of a multinational community or organization for collective security. Constitutional amendments are proposed by the parliament or by the cantons or by federal popular initiative.</p>\n<p>In this project we will investigate whether canton-level outcomes of Swiss referendums are correlated with the type and quantity of venues present in a canton. Once correlations have been identified, several classification models will be built and compared in their ability to correctly predict swiss votation outcomes by canton based on the canton's venues.</p>", 
            "cell_type": "markdown", 
            "metadata": {}
        }, 
        {
            "source": "<a id='data'></a>\n<hr>\n<h2>2. Data</h2>\n<ul>\n    <li><a href=\"https://www.bk.admin.ch/bk/de/home/politische-rechte/volksabstimmungen.html\">Swiss plebiscite data</a></li>\n    <li><a href=\"https://en.wikipedia.org/wiki/List_of_municipalities_of_Switzerland\">List of Swiss municipalities</a></li>\n    <li><a href=\"https://foursquare.com/\">Foursquare location data</a></li>\n</ul>\n<h3>2.A. Swiss Plebiscite Data</h3>\n<a href=\"https://www.bk.admin.ch/bk/de/home/politische-rechte/volksabstimmungen.html\">Source</a>\n<h3>2.B. Swiss Municipalities by Canton and Georeferences</h3>\n<a href=\"https://en.wikipedia.org/wiki/List_of_municipalities_of_Switzerland\">Source</a>\n<h3>2.C. Foursquare Location Data</h3>\n<a href=\"https://foursquare.com/\">Source</a>", 
            "cell_type": "markdown", 
            "metadata": {}
        }, 
        {
            "source": "<a id='meth'></a>\n<hr>\n<h2>3. Methodology</h2>", 
            "cell_type": "markdown", 
            "metadata": {}
        }, 
        {
            "source": "<a id='ana'></a>\n<hr>\n<h2>4. Analysis</h2>", 
            "cell_type": "markdown", 
            "metadata": {}
        }, 
        {
            "source": "<a id='res'></a>\n<hr>\n<h2>5. Results</h2>", 
            "cell_type": "markdown", 
            "metadata": {}
        }, 
        {
            "source": "<a id='con'></a>\n<hr>\n<h2>6. Conclusion</h2>", 
            "cell_type": "markdown", 
            "metadata": {}
        }, 
        {
            "source": "<a id='ref'></a>\n<hr>\n<h2>7. References</h2>", 
            "cell_type": "markdown", 
            "metadata": {}
        }, 
        {
            "source": "", 
            "cell_type": "code", 
            "metadata": {}, 
            "outputs": [], 
            "execution_count": null
        }
    ], 
    "metadata": {
        "kernelspec": {
            "display_name": "Python 3.5", 
            "name": "python3", 
            "language": "python"
        }, 
        "language_info": {
            "mimetype": "text/x-python", 
            "nbconvert_exporter": "python", 
            "version": "3.5.5", 
            "name": "python", 
            "pygments_lexer": "ipython3", 
            "file_extension": ".py", 
            "codemirror_mode": {
                "version": 3, 
                "name": "ipython"
            }
        }
    }, 
    "nbformat": 4
}